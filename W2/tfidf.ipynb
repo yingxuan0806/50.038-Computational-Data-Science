{
 "cells": [
  {
   "cell_type": "code",
   "execution_count": 2,
   "metadata": {},
   "outputs": [],
   "source": [
    "import pandas as pd, numpy as np"
   ]
  },
  {
   "cell_type": "code",
   "execution_count": 21,
   "metadata": {},
   "outputs": [],
   "source": [
    "d1 = pd.DataFrame({\"Term\": pd.Series([\"this\",\"is\",\"a\",\"sample\"]),\"Count\": pd.Series([1,1,2,1])})\n",
    "d2 = pd.DataFrame({\"Term\": pd.Series([\"this\",\"is\",\"another\",\"example\"]),\"Count\": pd.Series([1,1,2,3])})"
   ]
  },
  {
   "cell_type": "code",
   "execution_count": 22,
   "metadata": {},
   "outputs": [],
   "source": [
    "boolean = {'False': 0, 'True': 1}\n",
    "d2['tf'] = d2['Count'].apply(lambda x: x/np.max(d2['Count']))\n",
    "d2['is_in_d1'] = d2['Term'].apply(lambda x: boolean[str(x in list(d1['Term']))])\n",
    "d2['idf'] = np.log10(2/(1 + d2['is_in_d1']))\n",
    "\n",
    "#this solution is also fine to avoid division by 0 error for the words that are out of vocabulary (OOV)\n",
    "\n",
    "d2['idf_avoid_division_by_zero'] = np.log10(2/(1 + 1 + d2['is_in_d1']))"
   ]
  },
  {
   "cell_type": "code",
   "execution_count": 23,
   "metadata": {},
   "outputs": [],
   "source": [
    "d1['tf'] = d1['Count'].apply(lambda x: x/np.max(d1['Count']))\n",
    "d1['is_in_d2'] = d1['Term'].apply(lambda x: boolean[str(x in list(d2['Term']))])\n",
    "d1['idf'] = d2['idf']"
   ]
  },
  {
   "cell_type": "code",
   "execution_count": 24,
   "metadata": {},
   "outputs": [
    {
     "name": "stdout",
     "output_type": "stream",
     "text": [
      "      Term  Count        tf  is_in_d1      idf  idf_avoid_division_by_zero\n",
      "0     this      1  0.333333         1  0.00000                   -0.176091\n",
      "1       is      1  0.333333         1  0.00000                   -0.176091\n",
      "2  another      2  0.666667         0  0.30103                    0.000000\n",
      "3  example      3  1.000000         0  0.30103                    0.000000\n",
      "--------------------------------------------------\n",
      "     Term  Count   tf  is_in_d2      idf\n",
      "0    this      1  0.5         1  0.00000\n",
      "1      is      1  0.5         1  0.00000\n",
      "2       a      2  1.0         0  0.30103\n",
      "3  sample      1  0.5         0  0.30103\n"
     ]
    }
   ],
   "source": [
    "print (d2)\n",
    "print ('-'*50)\n",
    "print (d1)"
   ]
  },
  {
   "cell_type": "code",
   "execution_count": 25,
   "metadata": {},
   "outputs": [],
   "source": [
    "def tfidf(w, d):\n",
    "    if d == 'd1':\n",
    "        if w not in list(d1['Term']):\n",
    "            return 0\n",
    "        else:\n",
    "            index = list(d1['Term']).index(w)\n",
    "            return d1['tf'][index] * d1['idf'][index]\n",
    "        \n",
    "    elif d == 'd2':\n",
    "        if w not in list(d2['Term']):\n",
    "            return 0\n",
    "        else:\n",
    "            index = list(d2['Term']).index(w)\n",
    "            return d2['tf'][index] * d2['idf'][index]\n",
    "    else:\n",
    "        print ('Incorrect dataframe.')"
   ]
  },
  {
   "cell_type": "code",
   "execution_count": 26,
   "metadata": {},
   "outputs": [
    {
     "data": {
      "text/plain": [
       "0.3010299956639812"
      ]
     },
     "execution_count": 26,
     "metadata": {},
     "output_type": "execute_result"
    }
   ],
   "source": [
    "tfidf('example', 'd2')"
   ]
  },
  {
   "cell_type": "code",
   "execution_count": null,
   "metadata": {},
   "outputs": [],
   "source": []
  },
  {
   "cell_type": "code",
   "execution_count": null,
   "metadata": {},
   "outputs": [],
   "source": []
  }
 ],
 "metadata": {
  "anaconda-cloud": {},
  "kernelspec": {
   "display_name": "Python 3",
   "language": "python",
   "name": "python3"
  },
  "language_info": {
   "codemirror_mode": {
    "name": "ipython",
    "version": 3
   },
   "file_extension": ".py",
   "mimetype": "text/x-python",
   "name": "python",
   "nbconvert_exporter": "python",
   "pygments_lexer": "ipython3",
   "version": "3.7.6"
  }
 },
 "nbformat": 4,
 "nbformat_minor": 1
}
