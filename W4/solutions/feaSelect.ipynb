{
 "cells": [
  {
   "cell_type": "markdown",
   "metadata": {},
   "source": [
    "Import required packages"
   ]
  },
  {
   "cell_type": "code",
   "execution_count": 45,
   "metadata": {},
   "outputs": [],
   "source": [
    "from sklearn.feature_extraction.text import CountVectorizer\n",
    "from sklearn.pipeline import Pipeline\n",
    "from sklearn.linear_model import LinearRegression\n",
    "from sklearn.model_selection import train_test_split\n",
    "from sklearn.preprocessing import FunctionTransformer\n",
    "from sklearn import metrics\n",
    "from sklearn.metrics import accuracy_score, mean_squared_error\n",
    "from sklearn.feature_selection import SelectKBest, SelectPercentile\n",
    "from sklearn.feature_selection import chi2, f_regression, mutual_info_classif\n",
    "import pandas as pd\n",
    "import numpy as np"
   ]
  },
  {
   "cell_type": "markdown",
   "metadata": {},
   "source": [
    "Load in dataset, set column headers"
   ]
  },
  {
   "cell_type": "code",
   "execution_count": 112,
   "metadata": {
    "scrolled": false
   },
   "outputs": [
    {
     "data": {
      "text/html": [
       "<div>\n",
       "<style scoped>\n",
       "    .dataframe tbody tr th:only-of-type {\n",
       "        vertical-align: middle;\n",
       "    }\n",
       "\n",
       "    .dataframe tbody tr th {\n",
       "        vertical-align: top;\n",
       "    }\n",
       "\n",
       "    .dataframe thead th {\n",
       "        text-align: right;\n",
       "    }\n",
       "</style>\n",
       "<table border=\"1\" class=\"dataframe\">\n",
       "  <thead>\n",
       "    <tr style=\"text-align: right;\">\n",
       "      <th></th>\n",
       "      <th>doc_id</th>\n",
       "      <th>hotel_name</th>\n",
       "      <th>hotel_url</th>\n",
       "      <th>street</th>\n",
       "      <th>city</th>\n",
       "      <th>state</th>\n",
       "      <th>country</th>\n",
       "      <th>zip</th>\n",
       "      <th>class</th>\n",
       "      <th>price</th>\n",
       "      <th>num_reviews</th>\n",
       "      <th>CLEANLINESS</th>\n",
       "      <th>ROOM</th>\n",
       "      <th>SERVICE</th>\n",
       "      <th>LOCATION</th>\n",
       "      <th>VALUE</th>\n",
       "      <th>COMFORT</th>\n",
       "      <th>overall_ratingsource</th>\n",
       "    </tr>\n",
       "  </thead>\n",
       "  <tbody>\n",
       "    <tr>\n",
       "      <th>0</th>\n",
       "      <td>usa_illinois_chicago_the_talbott_hotel</td>\n",
       "      <td>the talbott hotel</td>\n",
       "      <td>http://www.tripadvisor.com/ShowUserReviews-g35...</td>\n",
       "      <td>-1</td>\n",
       "      <td>chicago</td>\n",
       "      <td>il</td>\n",
       "      <td>usa</td>\n",
       "      <td>60611</td>\n",
       "      <td>-1</td>\n",
       "      <td>-1</td>\n",
       "      <td>212</td>\n",
       "      <td>4.729508</td>\n",
       "      <td>4.655738</td>\n",
       "      <td>4.647541</td>\n",
       "      <td>4.844262</td>\n",
       "      <td>4.483607</td>\n",
       "      <td>0</td>\n",
       "      <td>4.672131</td>\n",
       "    </tr>\n",
       "    <tr>\n",
       "      <th>1</th>\n",
       "      <td>usa_illinois_chicago_sofitel_chicago_water_tower</td>\n",
       "      <td>sofitel chicago water tower</td>\n",
       "      <td>http://www.tripadvisor.com/ShowUserReviews-g35...</td>\n",
       "      <td>-1</td>\n",
       "      <td>chicago</td>\n",
       "      <td>il</td>\n",
       "      <td>usa</td>\n",
       "      <td>60611</td>\n",
       "      <td>-1</td>\n",
       "      <td>-1</td>\n",
       "      <td>346</td>\n",
       "      <td>4.760797</td>\n",
       "      <td>4.558140</td>\n",
       "      <td>4.604651</td>\n",
       "      <td>4.794020</td>\n",
       "      <td>4.289037</td>\n",
       "      <td>0</td>\n",
       "      <td>4.601329</td>\n",
       "    </tr>\n",
       "    <tr>\n",
       "      <th>2</th>\n",
       "      <td>usa_illinois_chicago_trump_international_hotel...</td>\n",
       "      <td>trump international hotel tower chicago</td>\n",
       "      <td>http://www.tripadvisor.com/ShowUserReviews-g35...</td>\n",
       "      <td>-1</td>\n",
       "      <td>chicago</td>\n",
       "      <td>il</td>\n",
       "      <td>usa</td>\n",
       "      <td>60611</td>\n",
       "      <td>-1</td>\n",
       "      <td>-1</td>\n",
       "      <td>128</td>\n",
       "      <td>4.888889</td>\n",
       "      <td>4.842593</td>\n",
       "      <td>4.574074</td>\n",
       "      <td>4.861111</td>\n",
       "      <td>4.314815</td>\n",
       "      <td>0</td>\n",
       "      <td>4.696296</td>\n",
       "    </tr>\n",
       "    <tr>\n",
       "      <th>3</th>\n",
       "      <td>usa_illinois_chicago_hampton_inn_majestic_chicago</td>\n",
       "      <td>hampton inn majestic chicago</td>\n",
       "      <td>http://www.tripadvisor.com/ShowUserReviews-g35...</td>\n",
       "      <td>-1</td>\n",
       "      <td>chicago</td>\n",
       "      <td>il</td>\n",
       "      <td>usa</td>\n",
       "      <td>60603</td>\n",
       "      <td>-1</td>\n",
       "      <td>-1</td>\n",
       "      <td>141</td>\n",
       "      <td>4.757576</td>\n",
       "      <td>4.590909</td>\n",
       "      <td>4.492424</td>\n",
       "      <td>4.742424</td>\n",
       "      <td>4.393939</td>\n",
       "      <td>0</td>\n",
       "      <td>4.595455</td>\n",
       "    </tr>\n",
       "    <tr>\n",
       "      <th>4</th>\n",
       "      <td>usa_illinois_chicago_residence_inn_chicago_dow...</td>\n",
       "      <td>residence inn chicago downtown river north</td>\n",
       "      <td>http://www.tripadvisor.com/ShowUserReviews-g35...</td>\n",
       "      <td>-1</td>\n",
       "      <td>chicago</td>\n",
       "      <td>il</td>\n",
       "      <td>usa</td>\n",
       "      <td>60610</td>\n",
       "      <td>-1</td>\n",
       "      <td>-1</td>\n",
       "      <td>82</td>\n",
       "      <td>4.787500</td>\n",
       "      <td>4.600000</td>\n",
       "      <td>4.650000</td>\n",
       "      <td>4.725000</td>\n",
       "      <td>4.462500</td>\n",
       "      <td>0</td>\n",
       "      <td>4.645000</td>\n",
       "    </tr>\n",
       "  </tbody>\n",
       "</table>\n",
       "</div>"
      ],
      "text/plain": [
       "                                              doc_id  \\\n",
       "0             usa_illinois_chicago_the_talbott_hotel   \n",
       "1   usa_illinois_chicago_sofitel_chicago_water_tower   \n",
       "2  usa_illinois_chicago_trump_international_hotel...   \n",
       "3  usa_illinois_chicago_hampton_inn_majestic_chicago   \n",
       "4  usa_illinois_chicago_residence_inn_chicago_dow...   \n",
       "\n",
       "                                   hotel_name  \\\n",
       "0                           the talbott hotel   \n",
       "1                 sofitel chicago water tower   \n",
       "2     trump international hotel tower chicago   \n",
       "3                hampton inn majestic chicago   \n",
       "4  residence inn chicago downtown river north   \n",
       "\n",
       "                                           hotel_url  street     city state  \\\n",
       "0  http://www.tripadvisor.com/ShowUserReviews-g35...      -1  chicago    il   \n",
       "1  http://www.tripadvisor.com/ShowUserReviews-g35...      -1  chicago    il   \n",
       "2  http://www.tripadvisor.com/ShowUserReviews-g35...      -1  chicago    il   \n",
       "3  http://www.tripadvisor.com/ShowUserReviews-g35...      -1  chicago    il   \n",
       "4  http://www.tripadvisor.com/ShowUserReviews-g35...      -1  chicago    il   \n",
       "\n",
       "  country    zip  class  price  num_reviews  CLEANLINESS      ROOM   SERVICE  \\\n",
       "0     usa  60611     -1     -1          212     4.729508  4.655738  4.647541   \n",
       "1     usa  60611     -1     -1          346     4.760797  4.558140  4.604651   \n",
       "2     usa  60611     -1     -1          128     4.888889  4.842593  4.574074   \n",
       "3     usa  60603     -1     -1          141     4.757576  4.590909  4.492424   \n",
       "4     usa  60610     -1     -1           82     4.787500  4.600000  4.650000   \n",
       "\n",
       "   LOCATION     VALUE  COMFORT  overall_ratingsource  \n",
       "0  4.844262  4.483607        0              4.672131  \n",
       "1  4.794020  4.289037        0              4.601329  \n",
       "2  4.861111  4.314815        0              4.696296  \n",
       "3  4.742424  4.393939        0              4.595455  \n",
       "4  4.725000  4.462500        0              4.645000  "
      ]
     },
     "execution_count": 112,
     "metadata": {},
     "output_type": "execute_result"
    }
   ],
   "source": [
    "# load in training/test set\n",
    "data = pd.read_csv('chicago.csv', encoding='utf-8', delimiter=',')\n",
    "data.head()"
   ]
  },
  {
   "cell_type": "code",
   "execution_count": 113,
   "metadata": {},
   "outputs": [
    {
     "data": {
      "text/plain": [
       "0                 usa_illinois_chicago_the_talbott_hotel\n",
       "1       usa_illinois_chicago_sofitel_chicago_water_tower\n",
       "2      usa_illinois_chicago_trump_international_hotel...\n",
       "3      usa_illinois_chicago_hampton_inn_majestic_chicago\n",
       "4      usa_illinois_chicago_residence_inn_chicago_dow...\n",
       "5      usa_illinois_chicago_hotel_monaco_chicago_a_ki...\n",
       "6                usa_illinois_chicago_park_hyatt_chicago\n",
       "7      usa_illinois_chicago_springhill_suites_chicago...\n",
       "8      usa_illinois_chicago_homewood_suites_by_hilton...\n",
       "9                   usa_illinois_chicago_affinia_chicago\n",
       "10                   usa_illinois_chicago_dana_hotel_spa\n",
       "11            usa_illinois_chicago_the_peninsula_chicago\n",
       "12     usa_illinois_chicago_the_blackstone_a_renaissa...\n",
       "13                    usa_illinois_chicago_james_chicago\n",
       "14             usa_illinois_chicago_amalfi_hotel_chicago\n",
       "15       usa_illinois_chicago_four_seasons_hotel_chicago\n",
       "16     usa_illinois_chicago_hotel_burnham_a_kimpton_h...\n",
       "17                   usa_illinois_chicago_conrad_chicago\n",
       "18                     usa_illinois_chicago_thewit_hotel\n",
       "19        usa_illinois_chicago_renaissance_chicago_hotel\n",
       "20           usa_illinois_chicago_the_sutton_place_hotel\n",
       "21     usa_illinois_chicago_the_westin_chicago_river_...\n",
       "22     usa_illinois_chicago_holiday_inn_chicago_midwa...\n",
       "23               usa_illinois_chicago_carlton_inn_midway\n",
       "24               usa_illinois_chicago_omni_chicago_hotel\n",
       "25     usa_illinois_chicago_residence_inn_chicago_dow...\n",
       "26     usa_illinois_chicago_fairfield_inn_suites_chic...\n",
       "27     usa_illinois_chicago_millennium_knickerbocker_...\n",
       "28     usa_illinois_chicago_the_ritz_carlton_chicago_...\n",
       "29     usa_illinois_chicago_four_points_by_sheraton_c...\n",
       "                             ...                        \n",
       "127      usa_illinois_chicago_sheraton_chicago_northwest\n",
       "128                    usa_illinois_chicago_red_roof_inn\n",
       "129                 usa_illinois_chicago_chinatown_hotel\n",
       "130                 usa_illinois_chicago_delaware_towers\n",
       "131                 usa_illinois_chicago_edgebrook_motel\n",
       "132    usa_illinois_chicago_palwaukee_inn_conference_...\n",
       "133                   usa_illinois_chicago_lincoln_motel\n",
       "134    usa_illinois_chicago_super_8_motel_calumet_par...\n",
       "135                   usa_illinois_chicago_esquire_motel\n",
       "136    usa_illinois_chicago_la_quinta_inn_chicago_mat...\n",
       "137      usa_illinois_chicago_university_club_of_chicago\n",
       "138    usa_illinois_chicago_extended_stay_america_chi...\n",
       "139                    usa_illinois_chicago_best_western\n",
       "140     usa_illinois_chicago_chicago_o_hare_garden_hotel\n",
       "141               usa_illinois_chicago_new_jackson_hotel\n",
       "142                     usa_illinois_chicago_patio_motel\n",
       "143                usa_illinois_chicago_mark_twain_hotel\n",
       "144    usa_illinois_chicago_chicago_athletic_association\n",
       "145                    usa_illinois_chicago_belair_hotel\n",
       "146    usa_illinois_chicago_extended_stay_america_chi...\n",
       "147                   usa_illinois_chicago_chicago_lodge\n",
       "148    usa_illinois_chicago_super_8_chicago_o_hare_south\n",
       "149    usa_illinois_chicago_stan_properties_suites_at...\n",
       "150                 usa_illinois_chicago_sheffield_house\n",
       "151                      usa_illinois_chicago_midway_inn\n",
       "152                   usa_illinois_chicago_chateau_hotel\n",
       "153                  usa_illinois_chicago_milshire_hotel\n",
       "154                    usa_illinois_chicago_abbott_hotel\n",
       "155                   usa_illinois_chicago_skylark_motel\n",
       "156    usa_illinois_chicago_inn_of_chicago_hotel_magn...\n",
       "Name: docid, Length: 157, dtype: object"
      ]
     },
     "execution_count": 113,
     "metadata": {},
     "output_type": "execute_result"
    }
   ],
   "source": [
    "import os.path\n",
    "ratings = data['overall_ratingsource'].tolist()\n",
    "docids = data['doc_id'].tolist()\n",
    "reviews = []\n",
    "for docid in docids:\n",
    "    if os.path.exists('chicago/'+str(docid)):\n",
    "        \n",
    "        f = open('chicago/'+str(docid),'rb')\n",
    "        review = f.readlines()\n",
    "        reviews.append(review[0].decode('utf-8', 'ignore'))\n",
    "    else:\n",
    "        reviews.append(\"placeholder\")\n",
    "data = pd.DataFrame({'docid':docids, 'review':reviews, 'rating':ratings})\n",
    "data.to_csv('chicago_hotel_reviews.csv',header=True)\n",
    "data['docid']"
   ]
  },
  {
   "cell_type": "code",
   "execution_count": 4,
   "metadata": {
    "collapsed": true
   },
   "outputs": [],
   "source": [
    "#colnames = ['label','id','date','query','user','text']\n",
    "#data_full = pd.read_csv('training.1600000.processed.noemoticon.csv', header=None, names=colnames, encoding='windows-1252')\n",
    "#data_full = data_full.sample(n=160000)\n",
    "#data_full.to_csv('tweets.160k.random.csv', sep=',', encoding='utf-8', index=False, index_label=True)"
   ]
  },
  {
   "cell_type": "markdown",
   "metadata": {},
   "source": [
    "**The solution starts here. Define the various components of our pipeline"
   ]
  },
  {
   "cell_type": "code",
   "execution_count": 114,
   "metadata": {},
   "outputs": [],
   "source": [
    "# build a pipeline components for uni-grams and bi-grams, using a 80:20 train/test split\n",
    "data = pd.read_csv('chicago_hotel_reviews.csv', encoding='utf-8', delimiter=',')\n",
    "labels = data['rating']\n",
    "x_train, x_test, y_train, y_test = train_test_split(data, labels, test_size=0.2)\n",
    "getTweetCol = FunctionTransformer(lambda x: x['review'], validate=False) # extract reviews\n",
    "tfVect = CountVectorizer(stop_words='english', lowercase=True, ngram_range=(1,2))\n",
    "linReg = LinearRegression()"
   ]
  },
  {
   "cell_type": "markdown",
   "metadata": {},
   "source": [
    "Build pipeline for Linear Regression regressor using unigrams and bigrams"
   ]
  },
  {
   "cell_type": "code",
   "execution_count": 117,
   "metadata": {},
   "outputs": [
    {
     "name": "stdout",
     "output_type": "stream",
     "text": [
      "0.8170495362493827\n"
     ]
    }
   ],
   "source": [
    "clf_tf = Pipeline([('text', getTweetCol), ('vect', tfVect), ('clf', linReg)])\n",
    "clf_tf.fit(x_train, y_train)\n",
    "predicted = clf_tf.predict(x_test)\n",
    "print(mean_squared_error(y_test, predicted))"
   ]
  },
  {
   "cell_type": "markdown",
   "metadata": {},
   "source": [
    "Build similar pipeline, with feature selection"
   ]
  },
  {
   "cell_type": "code",
   "execution_count": 116,
   "metadata": {},
   "outputs": [
    {
     "name": "stdout",
     "output_type": "stream",
     "text": [
      "2.1035555387011335\n"
     ]
    },
    {
     "name": "stderr",
     "output_type": "stream",
     "text": [
      "/anaconda3/lib/python3.6/site-packages/sklearn/feature_selection/univariate_selection.py:114: RuntimeWarning: divide by zero encountered in true_divide\n",
      "  f = msb / msw\n"
     ]
    }
   ],
   "source": [
    "feaSelect = SelectPercentile(f_regression, percentile=8)\n",
    "clf_tf = Pipeline([('text', getTweetCol), ('vect', tfVect), \n",
    "                   ('feaSelect', feaSelect), ('clf', linReg)])\n",
    "clf_tf.fit(x_train, y_train)\n",
    "predicted = clf_tf.predict(x_test)\n",
    "print(mean_squared_error(y_test, predicted))"
   ]
  },
  {
   "cell_type": "code",
   "execution_count": null,
   "metadata": {
    "collapsed": true
   },
   "outputs": [],
   "source": []
  }
 ],
 "metadata": {
  "kernelspec": {
   "display_name": "Python 3",
   "language": "python",
   "name": "python3"
  },
  "language_info": {
   "codemirror_mode": {
    "name": "ipython",
    "version": 3
   },
   "file_extension": ".py",
   "mimetype": "text/x-python",
   "name": "python",
   "nbconvert_exporter": "python",
   "pygments_lexer": "ipython3",
   "version": "3.7.1"
  }
 },
 "nbformat": 4,
 "nbformat_minor": 2
}
