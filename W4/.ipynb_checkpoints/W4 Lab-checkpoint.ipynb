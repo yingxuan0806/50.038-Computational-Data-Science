{
 "cells": [
  {
   "cell_type": "markdown",
   "metadata": {},
   "source": [
    "Yeo Ying Xuan\n",
    "1003835"
   ]
  },
  {
   "cell_type": "code",
   "execution_count": 66,
   "metadata": {},
   "outputs": [],
   "source": [
    "from sklearn.svm import SVC\n",
    "from sklearn.preprocessing import StandardScaler\n",
    "from sklearn.pipeline import Pipeline\n",
    "from sklearn.model_selection import train_test_split\n",
    "from sklearn.metrics import accuracy_score, mean_squared_error\n",
    "import pandas as pd\n",
    "import numpy as np\n",
    "\n",
    "from sklearn.feature_extraction.text import TfidfVectorizer\n",
    "from sklearn.feature_selection import SelectPercentile, SelectKBest, chi2\n",
    "from sklearn.feature_selection import f_regression\n",
    "from sklearn.linear_model import LinearRegression\n",
    "from sklearn.model_selection import GridSearchCV"
   ]
  },
  {
   "cell_type": "markdown",
   "metadata": {},
   "source": [
    "# Exercise 1"
   ]
  },
  {
   "cell_type": "code",
   "execution_count": 10,
   "metadata": {},
   "outputs": [
    {
     "data": {
      "text/html": [
       "<div>\n",
       "<style scoped>\n",
       "    .dataframe tbody tr th:only-of-type {\n",
       "        vertical-align: middle;\n",
       "    }\n",
       "\n",
       "    .dataframe tbody tr th {\n",
       "        vertical-align: top;\n",
       "    }\n",
       "\n",
       "    .dataframe thead th {\n",
       "        text-align: right;\n",
       "    }\n",
       "</style>\n",
       "<table border=\"1\" class=\"dataframe\">\n",
       "  <thead>\n",
       "    <tr style=\"text-align: right;\">\n",
       "      <th></th>\n",
       "      <th>0</th>\n",
       "      <th>1</th>\n",
       "    </tr>\n",
       "  </thead>\n",
       "  <tbody>\n",
       "    <tr>\n",
       "      <th>0</th>\n",
       "      <td>32.502345</td>\n",
       "      <td>31.707006</td>\n",
       "    </tr>\n",
       "    <tr>\n",
       "      <th>1</th>\n",
       "      <td>53.426804</td>\n",
       "      <td>68.777596</td>\n",
       "    </tr>\n",
       "    <tr>\n",
       "      <th>2</th>\n",
       "      <td>61.530358</td>\n",
       "      <td>62.562382</td>\n",
       "    </tr>\n",
       "    <tr>\n",
       "      <th>3</th>\n",
       "      <td>47.475640</td>\n",
       "      <td>71.546632</td>\n",
       "    </tr>\n",
       "    <tr>\n",
       "      <th>4</th>\n",
       "      <td>59.813208</td>\n",
       "      <td>87.230925</td>\n",
       "    </tr>\n",
       "    <tr>\n",
       "      <th>5</th>\n",
       "      <td>55.142188</td>\n",
       "      <td>78.211518</td>\n",
       "    </tr>\n",
       "    <tr>\n",
       "      <th>6</th>\n",
       "      <td>52.211797</td>\n",
       "      <td>79.641973</td>\n",
       "    </tr>\n",
       "    <tr>\n",
       "      <th>7</th>\n",
       "      <td>39.299567</td>\n",
       "      <td>59.171489</td>\n",
       "    </tr>\n",
       "    <tr>\n",
       "      <th>8</th>\n",
       "      <td>48.105042</td>\n",
       "      <td>75.331242</td>\n",
       "    </tr>\n",
       "    <tr>\n",
       "      <th>9</th>\n",
       "      <td>52.550014</td>\n",
       "      <td>71.300880</td>\n",
       "    </tr>\n",
       "  </tbody>\n",
       "</table>\n",
       "</div>"
      ],
      "text/plain": [
       "           0          1\n",
       "0  32.502345  31.707006\n",
       "1  53.426804  68.777596\n",
       "2  61.530358  62.562382\n",
       "3  47.475640  71.546632\n",
       "4  59.813208  87.230925\n",
       "5  55.142188  78.211518\n",
       "6  52.211797  79.641973\n",
       "7  39.299567  59.171489\n",
       "8  48.105042  75.331242\n",
       "9  52.550014  71.300880"
      ]
     },
     "execution_count": 10,
     "metadata": {},
     "output_type": "execute_result"
    }
   ],
   "source": [
    "df1 = pd.read_csv('data.csv', header = None)\n",
    "df1.head(10)\n",
    "# col[0]: feature X\n",
    "# col[1]: Y value"
   ]
  },
  {
   "cell_type": "markdown",
   "metadata": {},
   "source": [
    "## using normal equation"
   ]
  },
  {
   "cell_type": "code",
   "execution_count": 11,
   "metadata": {},
   "outputs": [],
   "source": [
    "%matplotlib inline\n",
    "import matplotlib.pyplot as plt"
   ]
  },
  {
   "cell_type": "code",
   "execution_count": 14,
   "metadata": {},
   "outputs": [
    {
     "data": {
      "text/plain": [
       "<matplotlib.collections.PathCollection at 0x7f9f04ac5820>"
      ]
     },
     "execution_count": 14,
     "metadata": {},
     "output_type": "execute_result"
    },
    {
     "data": {
      "image/png": "[encoded data removed]",
      "text/plain": [
       "<Figure size 432x288 with 1 Axes>"
      ]
     },
     "metadata": {
      "needs_background": "light"
     },
     "output_type": "display_data"
    }
   ],
   "source": [
    "plt.scatter(x = df1[0], y = df1[1])"
   ]
  },
  {
   "cell_type": "code",
   "execution_count": 20,
   "metadata": {},
   "outputs": [
    {
     "name": "stdout",
     "output_type": "stream",
     "text": [
      "equation \n",
      " y = 1.322x + 7.991\n"
     ]
    }
   ],
   "source": [
    "from scipy.stats import linregress\n",
    "stats = linregress(x = df1[0], y = df1[1])\n",
    "\n",
    "m = stats.slope\n",
    "b = stats.intercept\n",
    "print(\"equation \\n y = \" + str(round(m,3)) + \"x + \" + str(round(b,3)))"
   ]
  },
  {
   "cell_type": "code",
   "execution_count": 25,
   "metadata": {},
   "outputs": [
    {
     "data": {
      "text/plain": [
       "[<matplotlib.lines.Line2D at 0x7f9f051139a0>]"
      ]
     },
     "execution_count": 25,
     "metadata": {},
     "output_type": "execute_result"
    },
    {
     "data": {
      "image/png": "[encoded data removed]",
      "text/plain": [
       "<Figure size 432x288 with 1 Axes>"
      ]
     },
     "metadata": {
      "needs_background": "light"
     },
     "output_type": "display_data"
    }
   ],
   "source": [
    "plt.scatter(x = df1[0], y = df1[1])\n",
    "plt.plot(df1[0], m * df1[0] + b, color = \"red\")"
   ]
  },
  {
   "cell_type": "markdown",
   "metadata": {},
   "source": [
    "## using gradient descent"
   ]
  },
  {
   "cell_type": "code",
   "execution_count": 57,
   "metadata": {},
   "outputs": [
    {
     "name": "stdout",
     "output_type": "stream",
     "text": [
      "<class 'pandas.core.series.Series'>\n",
      "<class 'numpy.ndarray'>\n",
      "<class 'numpy.ndarray'>\n"
     ]
    }
   ],
   "source": [
    "# x = df1.loc[:, 0]\n",
    "# y = df1.loc[:, 1]\n",
    "# # a_dataframe.loc[:,'Numbers']\n",
    "# print(type(x))\n",
    "# x1 = np.array(x)\n",
    "# y1 = np.array(y)\n",
    "# print(type(x1))\n",
    "# print(type(x2))"
   ]
  },
  {
   "cell_type": "code",
   "execution_count": 54,
   "metadata": {},
   "outputs": [],
   "source": [
    "def train(x, y, w):\n",
    "    w += learning_rate * np.dot(x.T, (y - np.dot(x, w))) / len(x)\n",
    "    y_pred = np.dot(x, w)\n",
    "    loss = mean_squared_error(y_pred, y)\n",
    "    return w, y_pred, loss"
   ]
  },
  {
   "cell_type": "code",
   "execution_count": 59,
   "metadata": {},
   "outputs": [],
   "source": [
    "# [:, np.newaxis]\n",
    "x, y = df1.loc[:,0][:, np.newaxis], df1.loc[:,1]"
   ]
  },
  {
   "cell_type": "code",
   "execution_count": 60,
   "metadata": {},
   "outputs": [
    {
     "name": "stdout",
     "output_type": "stream",
     "text": [
      "epoch 100 loss : 3187.062473138781\n",
      "epoch 100 loss : 122.65543791095718\n",
      "epoch 100 loss : 112.70061746902573\n",
      "epoch 100 loss : 112.6682789288475\n",
      "epoch 100 loss : 112.66817387610577\n",
      "epoch 100 loss : 112.6681735348387\n",
      "epoch 100 loss : 112.6681735337301\n",
      "epoch 100 loss : 112.66817353372652\n",
      "epoch 100 loss : 112.66817353372647\n",
      "epoch 100 loss : 112.66817353372647\n",
      "[1.47948973]\n"
     ]
    }
   ],
   "source": [
    "epoch = 100\n",
    "learning_rate = 0.0001\n",
    "w = np.zeros((1))\n",
    "for i in range(epoch):\n",
    "    w, y_pred, loss = train(x, y, w)\n",
    "    if i % 10 == 0:\n",
    "        print(f'epoch {epoch} loss : {loss}')\n",
    "print(w)"
   ]
  },
  {
   "cell_type": "code",
   "execution_count": 61,
   "metadata": {},
   "outputs": [],
   "source": [
    "def closed_formula(x, y):\n",
    "    return np.linalg.inv(x.T.dot(x)).dot(x.T).dot(y)"
   ]
  },
  {
   "cell_type": "code",
   "execution_count": 62,
   "metadata": {},
   "outputs": [
    {
     "name": "stdout",
     "output_type": "stream",
     "text": [
      "[1.47948973]\n"
     ]
    }
   ],
   "source": [
    "w = closed_formula(x, y)\n",
    "print(w)"
   ]
  },
  {
   "cell_type": "code",
   "execution_count": 65,
   "metadata": {},
   "outputs": [
    {
     "data": {
      "text/plain": [
       "112.66817353372647"
      ]
     },
     "execution_count": 65,
     "metadata": {},
     "output_type": "execute_result"
    }
   ],
   "source": [
    "mean_squared_error(np.dot(x,w), y)"
   ]
  },
  {
   "cell_type": "markdown",
   "metadata": {},
   "source": [
    "## Exercise 2"
   ]
  },
  {
   "cell_type": "code",
   "execution_count": 64,
   "metadata": {},
   "outputs": [
    {
     "data": {
      "text/html": [
       "<div>\n",
       "<style scoped>\n",
       "    .dataframe tbody tr th:only-of-type {\n",
       "        vertical-align: middle;\n",
       "    }\n",
       "\n",
       "    .dataframe tbody tr th {\n",
       "        vertical-align: top;\n",
       "    }\n",
       "\n",
       "    .dataframe thead th {\n",
       "        text-align: right;\n",
       "    }\n",
       "</style>\n",
       "<table border=\"1\" class=\"dataframe\">\n",
       "  <thead>\n",
       "    <tr style=\"text-align: right;\">\n",
       "      <th></th>\n",
       "      <th>Unnamed: 0</th>\n",
       "      <th>docid</th>\n",
       "      <th>review</th>\n",
       "      <th>rating</th>\n",
       "    </tr>\n",
       "  </thead>\n",
       "  <tbody>\n",
       "    <tr>\n",
       "      <th>0</th>\n",
       "      <td>0</td>\n",
       "      <td>usa_illinois_chicago_the_talbott_hotel</td>\n",
       "      <td>\\tWonderful\\tI had a sore throat and the hotel...</td>\n",
       "      <td>4.672131</td>\n",
       "    </tr>\n",
       "    <tr>\n",
       "      <th>1</th>\n",
       "      <td>1</td>\n",
       "      <td>usa_illinois_chicago_sofitel_chicago_water_tower</td>\n",
       "      <td>Nov 20 2009 \\tDidn't want to check out...\\tPer...</td>\n",
       "      <td>4.601329</td>\n",
       "    </tr>\n",
       "    <tr>\n",
       "      <th>2</th>\n",
       "      <td>2</td>\n",
       "      <td>usa_illinois_chicago_trump_international_hotel...</td>\n",
       "      <td>\\tWOW!!\\tGreat hotel! Stayed there with my wif...</td>\n",
       "      <td>4.696296</td>\n",
       "    </tr>\n",
       "    <tr>\n",
       "      <th>3</th>\n",
       "      <td>3</td>\n",
       "      <td>usa_illinois_chicago_hampton_inn_majestic_chicago</td>\n",
       "      <td>\\tStaff Went Above \\tWhile waiting for our gue...</td>\n",
       "      <td>4.595455</td>\n",
       "    </tr>\n",
       "    <tr>\n",
       "      <th>4</th>\n",
       "      <td>4</td>\n",
       "      <td>usa_illinois_chicago_residence_inn_chicago_dow...</td>\n",
       "      <td>\\tWonderful Hotel Will Definately Stay Here Ag...</td>\n",
       "      <td>4.645000</td>\n",
       "    </tr>\n",
       "    <tr>\n",
       "      <th>...</th>\n",
       "      <td>...</td>\n",
       "      <td>...</td>\n",
       "      <td>...</td>\n",
       "      <td>...</td>\n",
       "    </tr>\n",
       "    <tr>\n",
       "      <th>152</th>\n",
       "      <td>152</td>\n",
       "      <td>usa_illinois_chicago_chateau_hotel</td>\n",
       "      <td>Nov 9 2009 \\tDon't Stay Here\\tI live across th...</td>\n",
       "      <td>1.000000</td>\n",
       "    </tr>\n",
       "    <tr>\n",
       "      <th>153</th>\n",
       "      <td>153</td>\n",
       "      <td>usa_illinois_chicago_milshire_hotel</td>\n",
       "      <td>Oct 14 2009 \\tBates Motel\\tI've stayed at some...</td>\n",
       "      <td>1.850000</td>\n",
       "    </tr>\n",
       "    <tr>\n",
       "      <th>154</th>\n",
       "      <td>154</td>\n",
       "      <td>usa_illinois_chicago_abbott_hotel</td>\n",
       "      <td>Sep 21 2009 \\tSlum\\tNot only are the rooms jac...</td>\n",
       "      <td>1.700000</td>\n",
       "    </tr>\n",
       "    <tr>\n",
       "      <th>155</th>\n",
       "      <td>155</td>\n",
       "      <td>usa_illinois_chicago_skylark_motel</td>\n",
       "      <td>Feb 9 2009\\tNasty business going on in this ro...</td>\n",
       "      <td>1.000000</td>\n",
       "    </tr>\n",
       "    <tr>\n",
       "      <th>156</th>\n",
       "      <td>156</td>\n",
       "      <td>usa_illinois_chicago_inn_of_chicago_hotel_magn...</td>\n",
       "      <td>placeholder</td>\n",
       "      <td>-1.000000</td>\n",
       "    </tr>\n",
       "  </tbody>\n",
       "</table>\n",
       "<p>157 rows × 4 columns</p>\n",
       "</div>"
      ],
      "text/plain": [
       "     Unnamed: 0                                              docid  \\\n",
       "0             0             usa_illinois_chicago_the_talbott_hotel   \n",
       "1             1   usa_illinois_chicago_sofitel_chicago_water_tower   \n",
       "2             2  usa_illinois_chicago_trump_international_hotel...   \n",
       "3             3  usa_illinois_chicago_hampton_inn_majestic_chicago   \n",
       "4             4  usa_illinois_chicago_residence_inn_chicago_dow...   \n",
       "..          ...                                                ...   \n",
       "152         152                 usa_illinois_chicago_chateau_hotel   \n",
       "153         153                usa_illinois_chicago_milshire_hotel   \n",
       "154         154                  usa_illinois_chicago_abbott_hotel   \n",
       "155         155                 usa_illinois_chicago_skylark_motel   \n",
       "156         156  usa_illinois_chicago_inn_of_chicago_hotel_magn...   \n",
       "\n",
       "                                                review    rating  \n",
       "0    \\tWonderful\\tI had a sore throat and the hotel...  4.672131  \n",
       "1    Nov 20 2009 \\tDidn't want to check out...\\tPer...  4.601329  \n",
       "2    \\tWOW!!\\tGreat hotel! Stayed there with my wif...  4.696296  \n",
       "3    \\tStaff Went Above \\tWhile waiting for our gue...  4.595455  \n",
       "4    \\tWonderful Hotel Will Definately Stay Here Ag...  4.645000  \n",
       "..                                                 ...       ...  \n",
       "152  Nov 9 2009 \\tDon't Stay Here\\tI live across th...  1.000000  \n",
       "153  Oct 14 2009 \\tBates Motel\\tI've stayed at some...  1.850000  \n",
       "154  Sep 21 2009 \\tSlum\\tNot only are the rooms jac...  1.700000  \n",
       "155  Feb 9 2009\\tNasty business going on in this ro...  1.000000  \n",
       "156                                        placeholder -1.000000  \n",
       "\n",
       "[157 rows x 4 columns]"
      ]
     },
     "execution_count": 64,
     "metadata": {},
     "output_type": "execute_result"
    }
   ],
   "source": [
    "df2 = pd.read_csv(\"chicago_hotel_reviews.csv\")\n",
    "df2"
   ]
  },
  {
   "cell_type": "code",
   "execution_count": 74,
   "metadata": {},
   "outputs": [
    {
     "data": {
      "text/plain": [
       "1.4402821654354567"
      ]
     },
     "execution_count": 74,
     "metadata": {},
     "output_type": "execute_result"
    }
   ],
   "source": [
    "vectorizer = TfidfVectorizer()\n",
    "pipe = Pipeline([('tfidf', vectorizer), ('select_p', SelectPercentile(f_regression, percentile = 100)),\n",
    "                ('linear regression', LinearRegression())])\n",
    "\n",
    "x_train, x_test, y_train, y_test = train_test_split(df2.review, df2.rating, test_size = 0.2)\n",
    "\n",
    "fit = pipe.fit(x_train, y_train)\n",
    "mean_squared_error(y_test, pipe.predict(x_test))"
   ]
  },
  {
   "cell_type": "code",
   "execution_count": null,
   "metadata": {},
   "outputs": [],
   "source": []
  },
  {
   "cell_type": "code",
   "execution_count": null,
   "metadata": {},
   "outputs": [],
   "source": []
  }
 ],
 "metadata": {
  "kernelspec": {
   "display_name": "Python 3",
   "language": "python",
   "name": "python3"
  },
  "language_info": {
   "codemirror_mode": {
    "name": "ipython",
    "version": 3
   },
   "file_extension": ".py",
   "mimetype": "text/x-python",
   "name": "python",
   "nbconvert_exporter": "python",
   "pygments_lexer": "ipython3",
   "version": "3.8.3"
  }
 },
 "nbformat": 4,
 "nbformat_minor": 4
}
