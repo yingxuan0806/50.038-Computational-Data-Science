{
 "cells": [
  {
   "cell_type": "code",
   "execution_count": 1,
   "metadata": {},
   "outputs": [],
   "source": [
    "import os\n",
    "import numpy as np\n",
    "import keras\n",
    "from keras.datasets import reuters, imdb\n",
    "from keras.models import Sequential\n",
    "from keras.layers import LSTM, SimpleRNN, GRU, Dense, Dropout, Activation, Embedding\n",
    "from keras.preprocessing.text import Tokenizer\n",
    "from keras.preprocessing import sequence\n",
    "from sklearn.model_selection import train_test_split\n",
    "import pandas as pd"
   ]
  },
  {
   "cell_type": "code",
   "execution_count": 2,
   "metadata": {},
   "outputs": [
    {
     "data": {
      "text/html": [
       "<div>\n",
       "<style scoped>\n",
       "    .dataframe tbody tr th:only-of-type {\n",
       "        vertical-align: middle;\n",
       "    }\n",
       "\n",
       "    .dataframe tbody tr th {\n",
       "        vertical-align: top;\n",
       "    }\n",
       "\n",
       "    .dataframe thead th {\n",
       "        text-align: right;\n",
       "    }\n",
       "</style>\n",
       "<table border=\"1\" class=\"dataframe\">\n",
       "  <thead>\n",
       "    <tr style=\"text-align: right;\">\n",
       "      <th></th>\n",
       "      <th>label</th>\n",
       "      <th>id</th>\n",
       "      <th>date</th>\n",
       "      <th>query</th>\n",
       "      <th>user</th>\n",
       "      <th>text</th>\n",
       "    </tr>\n",
       "  </thead>\n",
       "  <tbody>\n",
       "    <tr>\n",
       "      <th>0</th>\n",
       "      <td>4</td>\n",
       "      <td>1985770747</td>\n",
       "      <td>Sun May 31 17:44:25 PDT 2009</td>\n",
       "      <td>NO_QUERY</td>\n",
       "      <td>vozabala</td>\n",
       "      <td>Getting ready for another week of fun and game...</td>\n",
       "    </tr>\n",
       "    <tr>\n",
       "      <th>1</th>\n",
       "      <td>0</td>\n",
       "      <td>2322735567</td>\n",
       "      <td>Wed Jun 24 23:10:08 PDT 2009</td>\n",
       "      <td>NO_QUERY</td>\n",
       "      <td>liannecab</td>\n",
       "      <td>http://twitpic.com/8cp6u - I want it, sooo bad</td>\n",
       "    </tr>\n",
       "    <tr>\n",
       "      <th>2</th>\n",
       "      <td>0</td>\n",
       "      <td>1972997427</td>\n",
       "      <td>Sat May 30 10:16:49 PDT 2009</td>\n",
       "      <td>NO_QUERY</td>\n",
       "      <td>nadhirarchangel</td>\n",
       "      <td>iloveyousincethe1stgradeitsthefirsttimewemet  ...</td>\n",
       "    </tr>\n",
       "    <tr>\n",
       "      <th>3</th>\n",
       "      <td>0</td>\n",
       "      <td>2230992481</td>\n",
       "      <td>Thu Jun 18 17:53:46 PDT 2009</td>\n",
       "      <td>NO_QUERY</td>\n",
       "      <td>doughamlin</td>\n",
       "      <td>@extendr I can add :skype links but :aim links...</td>\n",
       "    </tr>\n",
       "    <tr>\n",
       "      <th>4</th>\n",
       "      <td>4</td>\n",
       "      <td>2053227537</td>\n",
       "      <td>Sat Jun 06 03:46:32 PDT 2009</td>\n",
       "      <td>NO_QUERY</td>\n",
       "      <td>Mariallama</td>\n",
       "      <td>just woke up at to rain. . . on the plus side ...</td>\n",
       "    </tr>\n",
       "  </tbody>\n",
       "</table>\n",
       "</div>"
      ],
      "text/plain": [
       "   label          id                          date     query             user  \\\n",
       "0      4  1985770747  Sun May 31 17:44:25 PDT 2009  NO_QUERY         vozabala   \n",
       "1      0  2322735567  Wed Jun 24 23:10:08 PDT 2009  NO_QUERY        liannecab   \n",
       "2      0  1972997427  Sat May 30 10:16:49 PDT 2009  NO_QUERY  nadhirarchangel   \n",
       "3      0  2230992481  Thu Jun 18 17:53:46 PDT 2009  NO_QUERY       doughamlin   \n",
       "4      4  2053227537  Sat Jun 06 03:46:32 PDT 2009  NO_QUERY       Mariallama   \n",
       "\n",
       "                                                text  \n",
       "0  Getting ready for another week of fun and game...  \n",
       "1    http://twitpic.com/8cp6u - I want it, sooo bad   \n",
       "2  iloveyousincethe1stgradeitsthefirsttimewemet  ...  \n",
       "3  @extendr I can add :skype links but :aim links...  \n",
       "4  just woke up at to rain. . . on the plus side ...  "
      ]
     },
     "execution_count": 2,
     "metadata": {},
     "output_type": "execute_result"
    }
   ],
   "source": [
    "EMBEDDING_DIM = 50\n",
    "# load in training/test set\n",
    "data = pd.read_csv('tweets.160k.random.csv', encoding='utf-8')\n",
    "data.head()\n",
    "\n"
   ]
  },
  {
   "cell_type": "code",
   "execution_count": 3,
   "metadata": {},
   "outputs": [
    {
     "data": {
      "text/plain": [
       "4    80259\n",
       "0    79741\n",
       "Name: label, dtype: int64"
      ]
     },
     "execution_count": 3,
     "metadata": {},
     "output_type": "execute_result"
    }
   ],
   "source": [
    "data['label'].value_counts()"
   ]
  },
  {
   "cell_type": "code",
   "execution_count": 4,
   "metadata": {},
   "outputs": [],
   "source": [
    "vocab_size = 20000\n",
    "tokenizer = Tokenizer(num_words= vocab_size)\n",
    "tokenizer.fit_on_texts(data['text'])\n",
    "sequences = tokenizer.texts_to_sequences(data['text'])\n",
    "word_index = tokenizer.word_index\n",
    "tweets = sequence.pad_sequences(sequences, padding='post', maxlen=50)\n"
   ]
  },
  {
   "cell_type": "code",
   "execution_count": 5,
   "metadata": {},
   "outputs": [
    {
     "name": "stdout",
     "output_type": "stream",
     "text": [
      "128000 train sequences\n",
      "32000 test sequences\n"
     ]
    }
   ],
   "source": [
    "labels = data['label']\n",
    "labels = labels.replace(4,1) # replace label '4' with '1' to facilitate one-hot encoding\n",
    "x_train, x_test, y_train, y_test = train_test_split(tweets, labels, test_size=0.2)\n",
    "\n",
    "print(len(x_train), 'train sequences')\n",
    "print(len(x_test), 'test sequences')\n",
    "\n"
   ]
  },
  {
   "cell_type": "code",
   "execution_count": 6,
   "metadata": {},
   "outputs": [
    {
     "name": "stdout",
     "output_type": "stream",
     "text": [
      "Found 400000 word vectors.\n"
     ]
    }
   ],
   "source": [
    "y_train = keras.utils.to_categorical(y_train) # 2 classes\n",
    "y_test = keras.utils.to_categorical(y_test)\n",
    "\n",
    "embeddings_index = {}\n",
    "f = open('glove.6B.50d.txt')\n",
    "for line in f:\n",
    "    values = line.split()\n",
    "    word = values[0]\n",
    "    coefs = np.asarray(values[1:], dtype='float32')\n",
    "    embeddings_index[word] = coefs\n",
    "f.close()\n",
    "\n",
    "print('Found %s word vectors.' % len(embeddings_index))\n",
    "\n"
   ]
  },
  {
   "cell_type": "code",
   "execution_count": 7,
   "metadata": {},
   "outputs": [],
   "source": [
    "embedding_matrix = np.zeros((len(word_index) + 1, EMBEDDING_DIM))\n",
    "for word, i in word_index.items():\n",
    "    embedding_vector = embeddings_index.get(word)\n",
    "    if embedding_vector is not None:\n",
    "        # words not found in embedding index will be all-zeros.\n",
    "        embedding_matrix[i] = embedding_vector"
   ]
  },
  {
   "cell_type": "markdown",
   "metadata": {},
   "source": [
    "# Simple RNN"
   ]
  },
  {
   "cell_type": "code",
   "execution_count": 8,
   "metadata": {},
   "outputs": [],
   "source": [
    "model = Sequential()\n",
    "model.add(Embedding(len(word_index)+1, EMBEDDING_DIM, weights=[embedding_matrix], trainable=False))\n",
    "model.add(SimpleRNN(128))\n",
    "model.add(Dense(2))\n",
    "model.add(Activation('softmax'))\n",
    "\n",
    "model.compile(loss='categorical_crossentropy', optimizer='adam', metrics=['accuracy'])\n",
    "\n",
    "model.build()\n"
   ]
  },
  {
   "cell_type": "code",
   "execution_count": 9,
   "metadata": {},
   "outputs": [
    {
     "name": "stdout",
     "output_type": "stream",
     "text": [
      "Model: \"sequential\"\n",
      "_________________________________________________________________\n",
      "Layer (type)                 Output Shape              Param #   \n",
      "=================================================================\n",
      "embedding (Embedding)        (None, None, 50)          6910550   \n",
      "_________________________________________________________________\n",
      "simple_rnn (SimpleRNN)       (None, 128)               22912     \n",
      "_________________________________________________________________\n",
      "dense (Dense)                (None, 2)                 258       \n",
      "_________________________________________________________________\n",
      "activation (Activation)      (None, 2)                 0         \n",
      "=================================================================\n",
      "Total params: 6,933,720\n",
      "Trainable params: 23,170\n",
      "Non-trainable params: 6,910,550\n",
      "_________________________________________________________________\n",
      "None\n"
     ]
    }
   ],
   "source": [
    "print(model.summary())"
   ]
  },
  {
   "cell_type": "code",
   "execution_count": 10,
   "metadata": {},
   "outputs": [
    {
     "name": "stdout",
     "output_type": "stream",
     "text": [
      "Epoch 1/3\n",
      "800/800 [==============================] - 24s 31ms/step - loss: 0.6935 - accuracy: 0.5185 - val_loss: 0.6949 - val_accuracy: 0.4999\n",
      "Epoch 2/3\n",
      "800/800 [==============================] - 24s 30ms/step - loss: 0.6934 - accuracy: 0.5136 - val_loss: 0.6928 - val_accuracy: 0.5000\n",
      "Epoch 3/3\n",
      "800/800 [==============================] - 24s 30ms/step - loss: 0.6898 - accuracy: 0.5358 - val_loss: 0.6791 - val_accuracy: 0.5830\n",
      "250/250 [==============================] - 3s 10ms/step - loss: 0.6753 - accuracy: 0.5881\n",
      "Test score: 0.6753479838371277\n",
      "Test accuracy: 0.5880625247955322\n"
     ]
    }
   ],
   "source": [
    "history = model.fit(x_train, y_train, batch_size=128, epochs=3, verbose=1, validation_split=0.2)\n",
    "\n",
    "score = model.evaluate(x_test, y_test, batch_size=128, verbose=1)\n",
    "print('Test score:', score[0])\n",
    "print('Test accuracy:', score[1])"
   ]
  },
  {
   "cell_type": "markdown",
   "metadata": {},
   "source": [
    "# LSTM\n",
    "\n",
    "- `lstm1`: dropout rate 0.1\n",
    "- `lstm2`: dropout rate 0.2\n",
    "- `lstm3`: dropout rate 0.5\n",
    "- `lstm4`: dropout rate 0.8\n",
    "- `lstm5`: dropout rate 1"
   ]
  },
  {
   "cell_type": "markdown",
   "metadata": {},
   "source": [
    "## `lstm1`\n",
    "dropout rate = 0.1"
   ]
  },
  {
   "cell_type": "code",
   "execution_count": 11,
   "metadata": {},
   "outputs": [
    {
     "name": "stdout",
     "output_type": "stream",
     "text": [
      "Model: \"sequential_1\"\n",
      "_________________________________________________________________\n",
      "Layer (type)                 Output Shape              Param #   \n",
      "=================================================================\n",
      "embedding_1 (Embedding)      (None, None, 50)          6910550   \n",
      "_________________________________________________________________\n",
      "dropout (Dropout)            (None, None, 50)          0         \n",
      "_________________________________________________________________\n",
      "lstm (LSTM)                  (None, 128)               91648     \n",
      "_________________________________________________________________\n",
      "dense_1 (Dense)              (None, 2)                 258       \n",
      "_________________________________________________________________\n",
      "activation_1 (Activation)    (None, 2)                 0         \n",
      "=================================================================\n",
      "Total params: 7,002,456\n",
      "Trainable params: 91,906\n",
      "Non-trainable params: 6,910,550\n",
      "_________________________________________________________________\n",
      "None\n"
     ]
    }
   ],
   "source": [
    "lstm1 = Sequential()\n",
    "lstm1.add(Embedding(len(word_index)+1, EMBEDDING_DIM, weights=[embedding_matrix], trainable=False))\n",
    "lstm1.add(Dropout(0.1))\n",
    "lstm1.add(LSTM(128))\n",
    "lstm1.add(Dense(2))\n",
    "lstm1.add(Activation('softmax'))\n",
    "\n",
    "lstm1.compile(loss='categorical_crossentropy', optimizer='adam', metrics=['accuracy'])\n",
    "\n",
    "lstm1.build()\n",
    "\n",
    "print(lstm1.summary())"
   ]
  },
  {
   "cell_type": "code",
   "execution_count": 12,
   "metadata": {},
   "outputs": [
    {
     "name": "stdout",
     "output_type": "stream",
     "text": [
      "Epoch 1/3\n",
      "800/800 [==============================] - 73s 92ms/step - loss: 0.5984 - accuracy: 0.6749 - val_loss: 0.5539 - val_accuracy: 0.7125\n",
      "Epoch 2/3\n",
      "800/800 [==============================] - 71s 88ms/step - loss: 0.5517 - accuracy: 0.7174 - val_loss: 0.5427 - val_accuracy: 0.7102\n",
      "Epoch 3/3\n",
      "800/800 [==============================] - 69s 86ms/step - loss: 0.5295 - accuracy: 0.7335 - val_loss: 0.5318 - val_accuracy: 0.7448\n",
      "250/250 [==============================] - 8s 31ms/step - loss: 0.5283 - accuracy: 0.7469\n",
      "Test score: 0.6753479838371277\n",
      "Test accuracy: 0.5880625247955322\n"
     ]
    }
   ],
   "source": [
    "history1 = lstm1.fit(x_train, y_train, batch_size=128, epochs=3, verbose=1, validation_split=0.2)\n",
    "\n",
    "score1 = lstm1.evaluate(x_test, y_test, batch_size=128, verbose=1)\n"
   ]
  },
  {
   "cell_type": "code",
   "execution_count": 25,
   "metadata": {},
   "outputs": [
    {
     "name": "stdout",
     "output_type": "stream",
     "text": [
      "Test score: 0.5283139944076538\n",
      "Test accuracy: 0.7469062209129333\n"
     ]
    }
   ],
   "source": [
    "print('Test score:', score1[0])\n",
    "print('Test accuracy:', score1[1])"
   ]
  },
  {
   "cell_type": "markdown",
   "metadata": {},
   "source": [
    "## `lstm2`\n",
    "dropout rate = 0.2"
   ]
  },
  {
   "cell_type": "code",
   "execution_count": 13,
   "metadata": {},
   "outputs": [
    {
     "name": "stdout",
     "output_type": "stream",
     "text": [
      "Model: \"sequential_2\"\n",
      "_________________________________________________________________\n",
      "Layer (type)                 Output Shape              Param #   \n",
      "=================================================================\n",
      "embedding_2 (Embedding)      (None, None, 50)          6910550   \n",
      "_________________________________________________________________\n",
      "dropout_1 (Dropout)          (None, None, 50)          0         \n",
      "_________________________________________________________________\n",
      "lstm_1 (LSTM)                (None, 128)               91648     \n",
      "_________________________________________________________________\n",
      "dense_2 (Dense)              (None, 2)                 258       \n",
      "_________________________________________________________________\n",
      "activation_2 (Activation)    (None, 2)                 0         \n",
      "=================================================================\n",
      "Total params: 7,002,456\n",
      "Trainable params: 91,906\n",
      "Non-trainable params: 6,910,550\n",
      "_________________________________________________________________\n",
      "None\n"
     ]
    }
   ],
   "source": [
    "lstm2 = Sequential()\n",
    "lstm2.add(Embedding(len(word_index)+1, EMBEDDING_DIM, weights=[embedding_matrix], trainable=False))\n",
    "lstm2.add(Dropout(0.2))\n",
    "lstm2.add(LSTM(128))\n",
    "lstm2.add(Dense(2))\n",
    "lstm2.add(Activation('softmax'))\n",
    "\n",
    "lstm2.compile(loss='categorical_crossentropy', optimizer='adam', metrics=['accuracy'])\n",
    "\n",
    "lstm2.build()\n",
    "\n",
    "print(lstm2.summary())"
   ]
  },
  {
   "cell_type": "code",
   "execution_count": 14,
   "metadata": {},
   "outputs": [
    {
     "name": "stdout",
     "output_type": "stream",
     "text": [
      "Epoch 1/3\n",
      "800/800 [==============================] - 72s 89ms/step - loss: 0.6094 - accuracy: 0.6663 - val_loss: 0.5762 - val_accuracy: 0.7053\n",
      "Epoch 2/3\n",
      "800/800 [==============================] - 95s 118ms/step - loss: 0.5649 - accuracy: 0.7079 - val_loss: 0.5346 - val_accuracy: 0.7300\n",
      "Epoch 3/3\n",
      "800/800 [==============================] - 91s 114ms/step - loss: 0.5462 - accuracy: 0.7211 - val_loss: 0.5340 - val_accuracy: 0.7299\n",
      "250/250 [==============================] - 12s 48ms/step - loss: 0.5322 - accuracy: 0.7345\n",
      "Test score: 0.6753479838371277\n",
      "Test accuracy: 0.5880625247955322\n"
     ]
    }
   ],
   "source": [
    "history2 = lstm2.fit(x_train, y_train, batch_size=128, epochs=3, verbose=1, validation_split=0.2)\n",
    "\n",
    "score2 = lstm2.evaluate(x_test, y_test, batch_size=128, verbose=1)"
   ]
  },
  {
   "cell_type": "code",
   "execution_count": 26,
   "metadata": {},
   "outputs": [
    {
     "name": "stdout",
     "output_type": "stream",
     "text": [
      "Test score: 0.5322213768959045\n",
      "Test accuracy: 0.734499990940094\n"
     ]
    }
   ],
   "source": [
    "print('Test score:', score2[0])\n",
    "print('Test accuracy:', score2[1])"
   ]
  },
  {
   "cell_type": "markdown",
   "metadata": {},
   "source": [
    "## `lstm3`\n",
    "dropout rate = 0.5"
   ]
  },
  {
   "cell_type": "code",
   "execution_count": 15,
   "metadata": {},
   "outputs": [
    {
     "name": "stdout",
     "output_type": "stream",
     "text": [
      "Model: \"sequential_3\"\n",
      "_________________________________________________________________\n",
      "Layer (type)                 Output Shape              Param #   \n",
      "=================================================================\n",
      "embedding_3 (Embedding)      (None, None, 50)          6910550   \n",
      "_________________________________________________________________\n",
      "dropout_2 (Dropout)          (None, None, 50)          0         \n",
      "_________________________________________________________________\n",
      "lstm_2 (LSTM)                (None, 128)               91648     \n",
      "_________________________________________________________________\n",
      "dense_3 (Dense)              (None, 2)                 258       \n",
      "_________________________________________________________________\n",
      "activation_3 (Activation)    (None, 2)                 0         \n",
      "=================================================================\n",
      "Total params: 7,002,456\n",
      "Trainable params: 91,906\n",
      "Non-trainable params: 6,910,550\n",
      "_________________________________________________________________\n",
      "None\n"
     ]
    }
   ],
   "source": [
    "lstm3 = Sequential()\n",
    "lstm3.add(Embedding(len(word_index)+1, EMBEDDING_DIM, weights=[embedding_matrix], trainable=False))\n",
    "lstm3.add(Dropout(0.5))\n",
    "lstm3.add(LSTM(128))\n",
    "lstm3.add(Dense(2))\n",
    "lstm3.add(Activation('softmax'))\n",
    "\n",
    "lstm3.compile(loss='categorical_crossentropy', optimizer='adam', metrics=['accuracy'])\n",
    "\n",
    "lstm3.build()\n",
    "\n",
    "print(lstm3.summary())"
   ]
  },
  {
   "cell_type": "code",
   "execution_count": 16,
   "metadata": {},
   "outputs": [
    {
     "name": "stdout",
     "output_type": "stream",
     "text": [
      "Epoch 1/3\n",
      "800/800 [==============================] - 72s 89ms/step - loss: 0.6344 - accuracy: 0.6381 - val_loss: 0.5908 - val_accuracy: 0.6941\n",
      "Epoch 2/3\n",
      "800/800 [==============================] - 74s 92ms/step - loss: 0.6067 - accuracy: 0.6706 - val_loss: 0.5646 - val_accuracy: 0.7003\n",
      "Epoch 3/3\n",
      "800/800 [==============================] - 73s 91ms/step - loss: 0.5907 - accuracy: 0.6845 - val_loss: 0.5460 - val_accuracy: 0.7268\n",
      "250/250 [==============================] - 8s 33ms/step - loss: 0.5443 - accuracy: 0.7303\n",
      "Test score: 0.6753479838371277\n",
      "Test accuracy: 0.5880625247955322\n"
     ]
    }
   ],
   "source": [
    "history3 = lstm3.fit(x_train, y_train, batch_size=128, epochs=3, verbose=1, validation_split=0.2)\n",
    "\n",
    "score3 = lstm3.evaluate(x_test, y_test, batch_size=128, verbose=1)"
   ]
  },
  {
   "cell_type": "code",
   "execution_count": 27,
   "metadata": {},
   "outputs": [
    {
     "name": "stdout",
     "output_type": "stream",
     "text": [
      "Test score: 0.5443196892738342\n",
      "Test accuracy: 0.7303125262260437\n"
     ]
    }
   ],
   "source": [
    "print('Test score:', score3[0])\n",
    "print('Test accuracy:', score3[1])"
   ]
  },
  {
   "cell_type": "markdown",
   "metadata": {},
   "source": [
    "## `lstm4`\n",
    "dropout rate = 0.8"
   ]
  },
  {
   "cell_type": "code",
   "execution_count": 19,
   "metadata": {},
   "outputs": [
    {
     "name": "stdout",
     "output_type": "stream",
     "text": [
      "Model: \"sequential_5\"\n",
      "_________________________________________________________________\n",
      "Layer (type)                 Output Shape              Param #   \n",
      "=================================================================\n",
      "embedding_5 (Embedding)      (None, None, 50)          6910550   \n",
      "_________________________________________________________________\n",
      "dropout_4 (Dropout)          (None, None, 50)          0         \n",
      "_________________________________________________________________\n",
      "lstm_4 (LSTM)                (None, 128)               91648     \n",
      "_________________________________________________________________\n",
      "dense_5 (Dense)              (None, 2)                 258       \n",
      "_________________________________________________________________\n",
      "activation_5 (Activation)    (None, 2)                 0         \n",
      "=================================================================\n",
      "Total params: 7,002,456\n",
      "Trainable params: 91,906\n",
      "Non-trainable params: 6,910,550\n",
      "_________________________________________________________________\n",
      "None\n"
     ]
    }
   ],
   "source": [
    "lstm4 = Sequential()\n",
    "lstm4.add(Embedding(len(word_index)+1, EMBEDDING_DIM, weights=[embedding_matrix], trainable=False))\n",
    "lstm4.add(Dropout(0.8))\n",
    "lstm4.add(LSTM(128))\n",
    "lstm4.add(Dense(2))\n",
    "lstm4.add(Activation('softmax'))\n",
    "\n",
    "lstm4.compile(loss='categorical_crossentropy', optimizer='adam', metrics=['accuracy'])\n",
    "\n",
    "lstm4.build()\n",
    "\n",
    "print(lstm4.summary())"
   ]
  },
  {
   "cell_type": "code",
   "execution_count": 20,
   "metadata": {},
   "outputs": [
    {
     "name": "stdout",
     "output_type": "stream",
     "text": [
      "Epoch 1/3\n",
      "800/800 [==============================] - 72s 90ms/step - loss: 0.6677 - accuracy: 0.5925 - val_loss: 0.6402 - val_accuracy: 0.6479\n",
      "Epoch 2/3\n",
      "800/800 [==============================] - 76s 94ms/step - loss: 0.6554 - accuracy: 0.6117 - val_loss: 0.6139 - val_accuracy: 0.6703\n",
      "Epoch 3/3\n",
      "800/800 [==============================] - 76s 95ms/step - loss: 0.6502 - accuracy: 0.6186 - val_loss: 0.6184 - val_accuracy: 0.6584\n",
      "250/250 [==============================] - 9s 34ms/step - loss: 0.6184 - accuracy: 0.6612\n",
      "Test score: 0.6753479838371277\n",
      "Test accuracy: 0.5880625247955322\n"
     ]
    }
   ],
   "source": [
    "history4 = lstm4.fit(x_train, y_train, batch_size=128, epochs=3, verbose=1, validation_split=0.2)\n",
    "\n",
    "score4 = lstm4.evaluate(x_test, y_test, batch_size=128, verbose=1)\n"
   ]
  },
  {
   "cell_type": "code",
   "execution_count": 28,
   "metadata": {},
   "outputs": [
    {
     "name": "stdout",
     "output_type": "stream",
     "text": [
      "Test score: 0.6183657646179199\n",
      "Test accuracy: 0.6611875295639038\n"
     ]
    }
   ],
   "source": [
    "print('Test score:', score4[0])\n",
    "print('Test accuracy:', score4[1])"
   ]
  },
  {
   "cell_type": "markdown",
   "metadata": {},
   "source": [
    "## `lstm5`\n",
    "dropout rate = 1"
   ]
  },
  {
   "cell_type": "code",
   "execution_count": 23,
   "metadata": {},
   "outputs": [
    {
     "name": "stdout",
     "output_type": "stream",
     "text": [
      "Model: \"sequential_8\"\n",
      "_________________________________________________________________\n",
      "Layer (type)                 Output Shape              Param #   \n",
      "=================================================================\n",
      "embedding_8 (Embedding)      (None, None, 50)          6910550   \n",
      "_________________________________________________________________\n",
      "lstm_5 (LSTM)                (None, 128)               91648     \n",
      "_________________________________________________________________\n",
      "dense_6 (Dense)              (None, 2)                 258       \n",
      "_________________________________________________________________\n",
      "activation_6 (Activation)    (None, 2)                 0         \n",
      "=================================================================\n",
      "Total params: 7,002,456\n",
      "Trainable params: 91,906\n",
      "Non-trainable params: 6,910,550\n",
      "_________________________________________________________________\n",
      "None\n"
     ]
    }
   ],
   "source": [
    "lstm5 = Sequential()\n",
    "lstm5.add(Embedding(len(word_index)+1, EMBEDDING_DIM, weights=[embedding_matrix], trainable=False))\n",
    "lstm5.add(LSTM(128))\n",
    "lstm5.add(Dense(2))\n",
    "lstm5.add(Activation('softmax'))\n",
    "\n",
    "lstm5.compile(loss='categorical_crossentropy', optimizer='adam', metrics=['accuracy'])\n",
    "\n",
    "lstm5.build()\n",
    "\n",
    "print(lstm5.summary())"
   ]
  },
  {
   "cell_type": "code",
   "execution_count": 24,
   "metadata": {},
   "outputs": [
    {
     "name": "stdout",
     "output_type": "stream",
     "text": [
      "Epoch 1/3\n",
      "800/800 [==============================] - 76s 95ms/step - loss: 0.5847 - accuracy: 0.6896 - val_loss: 0.5493 - val_accuracy: 0.7227\n",
      "Epoch 2/3\n",
      "800/800 [==============================] - 79s 99ms/step - loss: 0.5352 - accuracy: 0.7314 - val_loss: 0.5220 - val_accuracy: 0.7420\n",
      "Epoch 3/3\n",
      "800/800 [==============================] - 101s 126ms/step - loss: 0.5130 - accuracy: 0.7465 - val_loss: 0.5057 - val_accuracy: 0.7500\n",
      "250/250 [==============================] - 15s 62ms/step - loss: 0.5049 - accuracy: 0.7542\n",
      "Test score: 0.6753479838371277\n",
      "Test accuracy: 0.5880625247955322\n"
     ]
    }
   ],
   "source": [
    "history5 = lstm5.fit(x_train, y_train, batch_size=128, epochs=3, verbose=1, validation_split=0.2)\n",
    "\n",
    "score5 = lstm5.evaluate(x_test, y_test, batch_size=128, verbose=1)"
   ]
  },
  {
   "cell_type": "code",
   "execution_count": 29,
   "metadata": {},
   "outputs": [
    {
     "name": "stdout",
     "output_type": "stream",
     "text": [
      "Test score: 0.504899799823761\n",
      "Test accuracy: 0.7541875243186951\n"
     ]
    }
   ],
   "source": [
    "print('Test score:', score5[0])\n",
    "print('Test accuracy:', score5[1])"
   ]
  },
  {
   "cell_type": "markdown",
   "metadata": {},
   "source": [
    "# LSTM\n",
    "- add dropout layer after LSTM\n",
    "- `lstm_1`: dropout rate = 0.1\n",
    "- `lstm_2`: dropout rate = 0.2\n",
    "- `lstm_3`: dropout rate = 0.5\n",
    "- `lstm_4`: dropout rate = 0.8\n",
    "- `lstm_5`: dropout rate = 1"
   ]
  },
  {
   "cell_type": "markdown",
   "metadata": {},
   "source": [
    "## `lstm_1`\n",
    "dropout rate = 0.1"
   ]
  },
  {
   "cell_type": "code",
   "execution_count": 31,
   "metadata": {},
   "outputs": [
    {
     "name": "stdout",
     "output_type": "stream",
     "text": [
      "Model: \"sequential_9\"\n",
      "_________________________________________________________________\n",
      "Layer (type)                 Output Shape              Param #   \n",
      "=================================================================\n",
      "embedding_9 (Embedding)      (None, None, 50)          6910550   \n",
      "_________________________________________________________________\n",
      "lstm_6 (LSTM)                (None, 128)               91648     \n",
      "_________________________________________________________________\n",
      "dropout_7 (Dropout)          (None, 128)               0         \n",
      "_________________________________________________________________\n",
      "dense_7 (Dense)              (None, 2)                 258       \n",
      "_________________________________________________________________\n",
      "activation_7 (Activation)    (None, 2)                 0         \n",
      "=================================================================\n",
      "Total params: 7,002,456\n",
      "Trainable params: 91,906\n",
      "Non-trainable params: 6,910,550\n",
      "_________________________________________________________________\n",
      "None\n"
     ]
    }
   ],
   "source": [
    "lstm_1 = Sequential()\n",
    "lstm_1.add(Embedding(len(word_index)+1, EMBEDDING_DIM, weights=[embedding_matrix], trainable=False))\n",
    "lstm_1.add(LSTM(128))\n",
    "lstm_1.add(Dropout(0.1))\n",
    "lstm_1.add(Dense(2))\n",
    "lstm_1.add(Activation('softmax'))\n",
    "\n",
    "lstm_1.compile(loss='categorical_crossentropy', optimizer='adam', metrics=['accuracy'])\n",
    "\n",
    "lstm_1.build()\n",
    "\n",
    "print(lstm_1.summary())"
   ]
  },
  {
   "cell_type": "code",
   "execution_count": 32,
   "metadata": {},
   "outputs": [
    {
     "name": "stdout",
     "output_type": "stream",
     "text": [
      "Epoch 1/3\n",
      "800/800 [==============================] - 74s 93ms/step - loss: 0.5882 - accuracy: 0.6845 - val_loss: 0.5523 - val_accuracy: 0.7198\n",
      "Epoch 2/3\n",
      "800/800 [==============================] - 73s 91ms/step - loss: 0.5367 - accuracy: 0.7308 - val_loss: 0.5216 - val_accuracy: 0.7368\n",
      "Epoch 3/3\n",
      "800/800 [==============================] - 74s 93ms/step - loss: 0.5142 - accuracy: 0.7467 - val_loss: 0.5115 - val_accuracy: 0.7477\n",
      "250/250 [==============================] - 8s 33ms/step - loss: 0.5098 - accuracy: 0.7508\n",
      "Test score: 0.5097532868385315\n",
      "Test accuracy: 0.7508437633514404\n"
     ]
    }
   ],
   "source": [
    "history_1 = lstm_1.fit(x_train, y_train, batch_size=128, epochs=3, verbose=1, validation_split=0.2)\n",
    "\n",
    "score_1 = lstm_1.evaluate(x_test, y_test, batch_size=128, verbose=1)\n",
    "\n",
    "print('Test score:', score_1[0])\n",
    "print('Test accuracy:', score_1[1])"
   ]
  },
  {
   "cell_type": "markdown",
   "metadata": {},
   "source": [
    "## `lstm_2`\n",
    "dropout rate = 0.2"
   ]
  },
  {
   "cell_type": "code",
   "execution_count": 33,
   "metadata": {},
   "outputs": [
    {
     "name": "stdout",
     "output_type": "stream",
     "text": [
      "Model: \"sequential_10\"\n",
      "_________________________________________________________________\n",
      "Layer (type)                 Output Shape              Param #   \n",
      "=================================================================\n",
      "embedding_10 (Embedding)     (None, None, 50)          6910550   \n",
      "_________________________________________________________________\n",
      "lstm_7 (LSTM)                (None, 128)               91648     \n",
      "_________________________________________________________________\n",
      "dropout_8 (Dropout)          (None, 128)               0         \n",
      "_________________________________________________________________\n",
      "dense_8 (Dense)              (None, 2)                 258       \n",
      "_________________________________________________________________\n",
      "activation_8 (Activation)    (None, 2)                 0         \n",
      "=================================================================\n",
      "Total params: 7,002,456\n",
      "Trainable params: 91,906\n",
      "Non-trainable params: 6,910,550\n",
      "_________________________________________________________________\n",
      "None\n"
     ]
    }
   ],
   "source": [
    "lstm_2 = Sequential()\n",
    "lstm_2.add(Embedding(len(word_index)+1, EMBEDDING_DIM, weights=[embedding_matrix], trainable=False))\n",
    "lstm_2.add(LSTM(128))\n",
    "lstm_2.add(Dropout(0.2))\n",
    "lstm_2.add(Dense(2))\n",
    "lstm_2.add(Activation('softmax'))\n",
    "\n",
    "lstm_2.compile(loss='categorical_crossentropy', optimizer='adam', metrics=['accuracy'])\n",
    "\n",
    "lstm_2.build()\n",
    "\n",
    "print(lstm_2.summary())"
   ]
  },
  {
   "cell_type": "code",
   "execution_count": 34,
   "metadata": {},
   "outputs": [
    {
     "name": "stdout",
     "output_type": "stream",
     "text": [
      "Epoch 1/3\n",
      "800/800 [==============================] - 72s 90ms/step - loss: 0.5873 - accuracy: 0.6895 - val_loss: 0.5440 - val_accuracy: 0.7223\n",
      "Epoch 2/3\n",
      "800/800 [==============================] - 73s 91ms/step - loss: 0.5373 - accuracy: 0.7294 - val_loss: 0.5285 - val_accuracy: 0.7326\n",
      "Epoch 3/3\n",
      "800/800 [==============================] - 74s 93ms/step - loss: 0.5159 - accuracy: 0.7456 - val_loss: 0.5158 - val_accuracy: 0.7496\n",
      "250/250 [==============================] - 8s 32ms/step - loss: 0.5118 - accuracy: 0.7513\n",
      "Test score: 0.5117943286895752\n",
      "Test accuracy: 0.7513437271118164\n"
     ]
    }
   ],
   "source": [
    "history_2 = lstm_2.fit(x_train, y_train, batch_size=128, epochs=3, verbose=1, validation_split=0.2)\n",
    "\n",
    "score_2 = lstm_2.evaluate(x_test, y_test, batch_size=128, verbose=1)\n",
    "\n",
    "print('Test score:', score_2[0])\n",
    "print('Test accuracy:', score_2[1])"
   ]
  },
  {
   "cell_type": "markdown",
   "metadata": {},
   "source": [
    "## `lstm_3`\n",
    "dropout rate = 0.5"
   ]
  },
  {
   "cell_type": "code",
   "execution_count": 35,
   "metadata": {},
   "outputs": [
    {
     "name": "stdout",
     "output_type": "stream",
     "text": [
      "Model: \"sequential_11\"\n",
      "_________________________________________________________________\n",
      "Layer (type)                 Output Shape              Param #   \n",
      "=================================================================\n",
      "embedding_11 (Embedding)     (None, None, 50)          6910550   \n",
      "_________________________________________________________________\n",
      "lstm_8 (LSTM)                (None, 128)               91648     \n",
      "_________________________________________________________________\n",
      "dropout_9 (Dropout)          (None, 128)               0         \n",
      "_________________________________________________________________\n",
      "dense_9 (Dense)              (None, 2)                 258       \n",
      "_________________________________________________________________\n",
      "activation_9 (Activation)    (None, 2)                 0         \n",
      "=================================================================\n",
      "Total params: 7,002,456\n",
      "Trainable params: 91,906\n",
      "Non-trainable params: 6,910,550\n",
      "_________________________________________________________________\n",
      "None\n"
     ]
    }
   ],
   "source": [
    "lstm_3 = Sequential()\n",
    "lstm_3.add(Embedding(len(word_index)+1, EMBEDDING_DIM, weights=[embedding_matrix], trainable=False))\n",
    "lstm_3.add(LSTM(128))\n",
    "lstm_3.add(Dropout(0.5))\n",
    "lstm_3.add(Dense(2))\n",
    "lstm_3.add(Activation('softmax'))\n",
    "\n",
    "lstm_3.compile(loss='categorical_crossentropy', optimizer='adam', metrics=['accuracy'])\n",
    "\n",
    "lstm_3.build()\n",
    "\n",
    "print(lstm_3.summary())"
   ]
  },
  {
   "cell_type": "code",
   "execution_count": 37,
   "metadata": {},
   "outputs": [
    {
     "name": "stdout",
     "output_type": "stream",
     "text": [
      "Epoch 1/3\n",
      "800/800 [==============================] - 80s 100ms/step - loss: 0.5515 - accuracy: 0.7214 - val_loss: 0.5367 - val_accuracy: 0.7265\n",
      "Epoch 2/3\n",
      "800/800 [==============================] - 87s 108ms/step - loss: 0.5248 - accuracy: 0.7396 - val_loss: 0.5283 - val_accuracy: 0.7393\n",
      "Epoch 3/3\n",
      "800/800 [==============================] - 110s 138ms/step - loss: 0.5077 - accuracy: 0.7519 - val_loss: 0.5108 - val_accuracy: 0.7505\n",
      "250/250 [==============================] - 9s 34ms/step - loss: 0.5094 - accuracy: 0.7520\n",
      "Test score: 0.5093563795089722\n",
      "Test accuracy: 0.7519687414169312\n"
     ]
    }
   ],
   "source": [
    "history_3 = lstm_3.fit(x_train, y_train, batch_size=128, epochs=3, verbose=1, validation_split=0.2)\n",
    "\n",
    "score_3 = lstm_3.evaluate(x_test, y_test, batch_size=128, verbose=1)\n",
    "\n",
    "print('Test score:', score_3[0])\n",
    "print('Test accuracy:', score_3[1])"
   ]
  },
  {
   "cell_type": "markdown",
   "metadata": {},
   "source": [
    "## lstm_4\n",
    "dropout rate = 0.8"
   ]
  },
  {
   "cell_type": "code",
   "execution_count": 38,
   "metadata": {},
   "outputs": [
    {
     "name": "stdout",
     "output_type": "stream",
     "text": [
      "Model: \"sequential_12\"\n",
      "_________________________________________________________________\n",
      "Layer (type)                 Output Shape              Param #   \n",
      "=================================================================\n",
      "embedding_12 (Embedding)     (None, None, 50)          6910550   \n",
      "_________________________________________________________________\n",
      "lstm_9 (LSTM)                (None, 128)               91648     \n",
      "_________________________________________________________________\n",
      "dropout_10 (Dropout)         (None, 128)               0         \n",
      "_________________________________________________________________\n",
      "dense_10 (Dense)             (None, 2)                 258       \n",
      "_________________________________________________________________\n",
      "activation_10 (Activation)   (None, 2)                 0         \n",
      "=================================================================\n",
      "Total params: 7,002,456\n",
      "Trainable params: 91,906\n",
      "Non-trainable params: 6,910,550\n",
      "_________________________________________________________________\n",
      "None\n"
     ]
    }
   ],
   "source": [
    "lstm_4 = Sequential()\n",
    "lstm_4.add(Embedding(len(word_index)+1, EMBEDDING_DIM, weights=[embedding_matrix], trainable=False))\n",
    "lstm_4.add(LSTM(128))\n",
    "lstm_4.add(Dropout(0.8))\n",
    "lstm_4.add(Dense(2))\n",
    "lstm_4.add(Activation('softmax'))\n",
    "\n",
    "lstm_4.compile(loss='categorical_crossentropy', optimizer='adam', metrics=['accuracy'])\n",
    "\n",
    "lstm_4.build()\n",
    "\n",
    "print(lstm_4.summary())"
   ]
  },
  {
   "cell_type": "code",
   "execution_count": 39,
   "metadata": {},
   "outputs": [
    {
     "name": "stdout",
     "output_type": "stream",
     "text": [
      "Epoch 1/3\n",
      "800/800 [==============================] - 73s 91ms/step - loss: 0.5919 - accuracy: 0.6847 - val_loss: 0.5524 - val_accuracy: 0.7127\n",
      "Epoch 2/3\n",
      "800/800 [==============================] - 76s 95ms/step - loss: 0.5441 - accuracy: 0.7285 - val_loss: 0.5240 - val_accuracy: 0.7380\n",
      "Epoch 3/3\n",
      "800/800 [==============================] - 79s 99ms/step - loss: 0.5215 - accuracy: 0.7445 - val_loss: 0.5189 - val_accuracy: 0.7475\n",
      "250/250 [==============================] - 9s 37ms/step - loss: 0.5168 - accuracy: 0.7492\n",
      "Test score: 0.516812264919281\n",
      "Test accuracy: 0.7491875290870667\n"
     ]
    }
   ],
   "source": [
    "history_4 = lstm_4.fit(x_train, y_train, batch_size=128, epochs=3, verbose=1, validation_split=0.2)\n",
    "\n",
    "score_4 = lstm_4.evaluate(x_test, y_test, batch_size=128, verbose=1)\n",
    "\n",
    "print('Test score:', score_4[0])\n",
    "print('Test accuracy:', score_4[1])"
   ]
  },
  {
   "cell_type": "markdown",
   "metadata": {},
   "source": [
    "# LSTM\n",
    "- `lstm1_`: dropout rate = 0.1\n",
    "- `lstm2_`: dropout rate = 0.2\n",
    "- `lstm3_`: dropout rate = 0.5\n",
    "- `lstm4_`: dropout rate = 0.8"
   ]
  },
  {
   "cell_type": "markdown",
   "metadata": {},
   "source": [
    "## `lstm1_`\n",
    "dropout rate = 0.1"
   ]
  },
  {
   "cell_type": "code",
   "execution_count": 40,
   "metadata": {},
   "outputs": [
    {
     "name": "stdout",
     "output_type": "stream",
     "text": [
      "Model: \"sequential_13\"\n",
      "_________________________________________________________________\n",
      "Layer (type)                 Output Shape              Param #   \n",
      "=================================================================\n",
      "embedding_13 (Embedding)     (None, None, 50)          6910550   \n",
      "_________________________________________________________________\n",
      "lstm_10 (LSTM)               (None, 128)               91648     \n",
      "_________________________________________________________________\n",
      "dense_11 (Dense)             (None, 2)                 258       \n",
      "_________________________________________________________________\n",
      "dropout_11 (Dropout)         (None, 2)                 0         \n",
      "_________________________________________________________________\n",
      "activation_11 (Activation)   (None, 2)                 0         \n",
      "=================================================================\n",
      "Total params: 7,002,456\n",
      "Trainable params: 91,906\n",
      "Non-trainable params: 6,910,550\n",
      "_________________________________________________________________\n",
      "None\n"
     ]
    }
   ],
   "source": [
    "lstm1_ = Sequential()\n",
    "lstm1_.add(Embedding(len(word_index)+1, EMBEDDING_DIM, weights=[embedding_matrix], trainable=False))\n",
    "lstm1_.add(LSTM(128))\n",
    "lstm1_.add(Dense(2))\n",
    "lstm1_.add(Dropout(0.1))\n",
    "lstm1_.add(Activation('softmax'))\n",
    "\n",
    "lstm1_.compile(loss='categorical_crossentropy', optimizer='adam', metrics=['accuracy'])\n",
    "\n",
    "lstm1_.build()\n",
    "\n",
    "print(lstm1_.summary())"
   ]
  }
 ],
 "metadata": {
  "kernelspec": {
   "display_name": "Python 3",
   "language": "python",
   "name": "python3"
  },
  "language_info": {
   "codemirror_mode": {
    "name": "ipython",
    "version": 3
   },
   "file_extension": ".py",
   "mimetype": "text/x-python",
   "name": "python",
   "nbconvert_exporter": "python",
   "pygments_lexer": "ipython3",
   "version": "3.8.3"
  }
 },
 "nbformat": 4,
 "nbformat_minor": 4
}
