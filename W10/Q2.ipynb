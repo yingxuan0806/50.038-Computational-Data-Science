{
 "cells": [
  {
   "cell_type": "code",
   "execution_count": 1,
   "metadata": {},
   "outputs": [],
   "source": [
    "# Import necessary libraries\n",
    "\n",
    "import sys\n",
    "import numpy as np\n",
    "from keras.models import Sequential\n",
    "from keras.layers import Dense\n",
    "from keras.layers import Dropout\n",
    "from keras.layers import LSTM\n",
    "from keras.callbacks import ModelCheckpoint\n",
    "from keras.utils import np_utils\n",
    "\n"
   ]
  },
  {
   "cell_type": "code",
   "execution_count": 2,
   "metadata": {},
   "outputs": [],
   "source": [
    "# Load in dataset of sample text and some preprocessing (convert to lowercase)\n",
    "\n",
    "filename = \"shakespeare.txt\"\n",
    "text = open(filename).readlines()[:4000]\n",
    "text = ''.join(text)\n",
    "text = text.lower()\n",
    "\n"
   ]
  },
  {
   "cell_type": "code",
   "execution_count": 3,
   "metadata": {},
   "outputs": [],
   "source": [
    "# Fuctions for mapping characters to integers and vice versa. Our text generation task will generate character-by-character.\n",
    "\n",
    "chars = sorted(list(set(text)))\n",
    "char_to_int = dict((c, i) for i, c in enumerate(chars)) # convert characters to integers\n",
    "int_to_char = dict((i, c) for i, c in enumerate(chars)) # convert integers to characters\n",
    "doc_size = len(text)\n",
    "vocab_size = len(chars)\n"
   ]
  },
  {
   "cell_type": "code",
   "execution_count": 4,
   "metadata": {},
   "outputs": [],
   "source": [
    "# Prepare dataset and labels for our training process, where we use sequences of 50 characters to generate the 51st character. Keras requries input to be in the shape [samples, time steps, features].\n",
    "\n",
    "seq_length = 50\n",
    "x_train = []\n",
    "y_train = []\n",
    "for i in range(0, doc_size - seq_length, 1):\n",
    "\tseq_in = text[i:i + seq_length]\n",
    "\tseq_out = text[i + seq_length]\n",
    "\tx_train.append([char_to_int[char] for char in seq_in])\n",
    "\ty_train.append(char_to_int[seq_out])\n",
    "seq_size = len(x_train)\n",
    "y_train = np_utils.to_categorical(y_train) # convert to one-hot\n",
    "x_train = np.reshape(x_train, (seq_size, seq_length, 1)) # reshape and normalize values"
   ]
  },
  {
   "cell_type": "code",
   "execution_count": 7,
   "metadata": {},
   "outputs": [
    {
     "name": "stdout",
     "output_type": "stream",
     "text": [
      "Epoch 1/20\n",
      "56/56 [==============================] - 173s 3s/step - loss: 2.8879\n",
      "Epoch 2/20\n",
      "56/56 [==============================] - 179s 3s/step - loss: 2.6217\n",
      "Epoch 3/20\n",
      "56/56 [==============================] - 180s 3s/step - loss: 2.5372\n",
      "Epoch 4/20\n",
      "56/56 [==============================] - 178s 3s/step - loss: 2.4821\n",
      "Epoch 5/20\n",
      "56/56 [==============================] - 155s 3s/step - loss: 2.4454\n",
      "Epoch 6/20\n",
      "56/56 [==============================] - 155s 3s/step - loss: 2.4229\n",
      "Epoch 7/20\n",
      "56/56 [==============================] - 160s 3s/step - loss: 2.4017\n",
      "Epoch 8/20\n",
      "56/56 [==============================] - 156s 3s/step - loss: 2.3809\n",
      "Epoch 9/20\n",
      "56/56 [==============================] - 156s 3s/step - loss: 2.3644\n",
      "Epoch 10/20\n",
      "56/56 [==============================] - 173s 3s/step - loss: 2.3469\n",
      "Epoch 11/20\n",
      "56/56 [==============================] - 154s 3s/step - loss: 2.3294\n",
      "Epoch 12/20\n",
      "56/56 [==============================] - 158s 3s/step - loss: 2.3132\n",
      "Epoch 13/20\n",
      "56/56 [==============================] - 160s 3s/step - loss: 2.2966\n",
      "Epoch 14/20\n",
      "56/56 [==============================] - 174s 3s/step - loss: 2.2816\n",
      "Epoch 15/20\n",
      "56/56 [==============================] - 197s 4s/step - loss: 2.2665\n",
      "Epoch 16/20\n",
      "56/56 [==============================] - 200s 4s/step - loss: 2.2503\n",
      "Epoch 17/20\n",
      "56/56 [==============================] - 180s 3s/step - loss: 2.2352\n",
      "Epoch 18/20\n",
      "56/56 [==============================] - 146s 3s/step - loss: 2.2214\n",
      "Epoch 19/20\n",
      "56/56 [==============================] - 178s 3s/step - loss: 2.2066\n",
      "Epoch 20/20\n",
      "56/56 [==============================] - 194s 3s/step - loss: 2.1931\n"
     ]
    },
    {
     "data": {
      "text/plain": [
       "<tensorflow.python.keras.callbacks.History at 0x7fbd7b70c280>"
      ]
     },
     "execution_count": 7,
     "metadata": {},
     "output_type": "execute_result"
    }
   ],
   "source": [
    "# Construct and train our LSTM model\n",
    "\n",
    "model = Sequential()\n",
    "model.add(LSTM(256, input_shape=(x_train.shape[1], x_train.shape[2])))\n",
    "model.add(Dense(y_train.shape[1], activation='softmax'))\n",
    "model.compile(loss='categorical_crossentropy', optimizer='adam')\n",
    "model.fit(x_train, y_train, epochs=20, batch_size=3000)\n"
   ]
  },
  {
   "cell_type": "code",
   "execution_count": 12,
   "metadata": {},
   "outputs": [
    {
     "name": "stdout",
     "output_type": "stream",
     "text": [
      "(1, 50, 1)\n"
     ]
    }
   ],
   "source": [
    "# generate characters\n",
    "generated_text = \"\"\n",
    "x = np.reshape(pattern, (1, len(pattern), 1))\n",
    "print(x.shape)\n",
    "prediction = model.predict(x, verbose=0)\n",
    "index = np.argmax(prediction)\n"
   ]
  },
  {
   "cell_type": "code",
   "execution_count": 13,
   "metadata": {},
   "outputs": [
    {
     "name": "stdout",
     "output_type": "stream",
     "text": [
      "50\n",
      "Generated Text:\n",
      " \n"
     ]
    }
   ],
   "source": [
    "# Generate a new text based on provided seed text\n",
    "seed_text = \"out of grief and impatience. answer'd neglectingly\"\n",
    "pattern = [char_to_int[char] for char in seed_text]\n",
    "print(len(pattern))\n",
    "result = int_to_char[index]\n",
    "generated_text+=result\n",
    "print(\"Generated Text:\")\n",
    "print(generated_text)"
   ]
  }
 ],
 "metadata": {
  "kernelspec": {
   "display_name": "Python 3",
   "language": "python",
   "name": "python3"
  },
  "language_info": {
   "codemirror_mode": {
    "name": "ipython",
    "version": 3
   },
   "file_extension": ".py",
   "mimetype": "text/x-python",
   "name": "python",
   "nbconvert_exporter": "python",
   "pygments_lexer": "ipython3",
   "version": "3.8.3"
  }
 },
 "nbformat": 4,
 "nbformat_minor": 4
}
